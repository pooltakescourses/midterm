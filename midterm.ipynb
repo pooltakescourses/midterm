{
 "cells": [
  {
   "cell_type": "code",
   "execution_count": null,
   "metadata": {
    "colab": {
     "base_uri": "https://localhost:8080/"
    },
    "id": "NEOxYbkup0vE",
    "outputId": "291fc17a-606e-4a85-b33f-a48e3693c4c1"
   },
   "outputs": [],
   "source": [
    "!pip install -U kaggle optuna xgboost 'ray[default]' imblearn scikit-learn scipy matplotlib seaborn modin\n",
    "!mkdir ~/.kaggle"
   ]
  },
  {
   "cell_type": "code",
   "execution_count": null,
   "metadata": {
    "colab": {
     "base_uri": "https://localhost:8080/"
    },
    "id": "U36eNOZCnbPU",
    "outputId": "8a5aec04-7b3a-45f1-ecae-89803e03aa9e",
    "scrolled": true
   },
   "outputs": [],
   "source": [
    "!git clone https://github.com/rapidsai/rapidsai-csp-utils.git\n",
    "!python rapidsai-csp-utils/colab/pip-install.py"
   ]
  },
  {
   "cell_type": "markdown",
   "metadata": {},
   "source": [
    "## Imports"
   ]
  },
  {
   "cell_type": "code",
   "execution_count": 1,
   "metadata": {
    "colab": {
     "base_uri": "https://localhost:8080/"
    },
    "id": "OFO4E2ZlrdjQ",
    "outputId": "fe1c8491-1bb6-4d92-acf8-2f99c08389f5"
   },
   "outputs": [],
   "source": [
    "import modin.pandas as pd\n",
    "import pathlib\n",
    "import numpy as np\n",
    "import matplotlib.pyplot as plt\n",
    "import seaborn as sns\n",
    "from sklearn.model_selection import train_test_split\n",
    "from sklearn.utils import shuffle\n",
    "import ray\n",
    "from scipy.special import softmax\n",
    "from sklearn.preprocessing import StandardScaler\n",
    "from sklearn.metrics import accuracy_score\n",
    "from cuml.feature_extraction.text import CountVectorizer, TfidfTransformer\n",
    "from sklearn.naive_bayes import MultinomialNB, GaussianNB\n",
    "from cuml import RandomForestClassifier\n",
    "from cuml.neighbors import KNeighborsClassifier\n",
    "import xgboost as xgb\n",
    "from sklearn.preprocessing import LabelEncoder\n",
    "from sklearn.linear_model import SGDClassifier\n",
    "from imblearn.over_sampling import SMOTE\n",
    "from sklearn.ensemble import VotingClassifier\n",
    "from cuml.neighbors import NearestNeighbors\n",
    "\n",
    "import optuna\n",
    "import pickle"
   ]
  },
  {
   "cell_type": "code",
   "execution_count": 2,
   "metadata": {},
   "outputs": [],
   "source": [
    "import nltk\n",
    "import re\n",
    "from nltk.corpus import stopwords\n",
    "from nltk.tokenize import word_tokenize\n",
    "from nltk.stem import WordNetLemmatizer\n",
    "from nltk.corpus import wordnet"
   ]
  },
  {
   "cell_type": "markdown",
   "metadata": {},
   "source": [
    "## Downloading Dataset"
   ]
  },
  {
   "cell_type": "code",
   "execution_count": 4,
   "metadata": {},
   "outputs": [
    {
     "name": "stderr",
     "output_type": "stream",
     "text": [
      "[nltk_data] Downloading package stopwords to /home/adrish/nltk_data...\n",
      "[nltk_data]   Package stopwords is already up-to-date!\n",
      "[nltk_data] Downloading package punkt to /home/adrish/nltk_data...\n",
      "[nltk_data]   Package punkt is already up-to-date!\n",
      "[nltk_data] Downloading package punkt_tab to /home/adrish/nltk_data...\n",
      "[nltk_data]   Package punkt_tab is already up-to-date!\n",
      "[nltk_data] Downloading package wordnet to /home/adrish/nltk_data...\n",
      "[nltk_data]   Package wordnet is already up-to-date!\n"
     ]
    },
    {
     "data": {
      "text/plain": [
       "True"
      ]
     },
     "execution_count": 4,
     "metadata": {},
     "output_type": "execute_result"
    }
   ],
   "source": [
    "nltk.download('stopwords')\n",
    "nltk.download('punkt')\n",
    "nltk.download('punkt_tab')\n",
    "nltk.download('wordnet')"
   ]
  },
  {
   "cell_type": "code",
   "execution_count": 5,
   "metadata": {
    "colab": {
     "base_uri": "https://localhost:8080/"
    },
    "id": "_KRmc_AarEP0",
    "outputId": "2d4bb906-5d76-4bc6-9b8b-b76292c06be6"
   },
   "outputs": [],
   "source": [
    "!kaggle competitions download -c cs-506-midterm-fall-2024\n",
    "!unzip cs-506-midterm-fall-2024.zip -d data/\n",
    "!rm cs-506-midterm-fall-2024.zip"
   ]
  },
  {
   "cell_type": "markdown",
   "metadata": {},
   "source": [
    "## Loading Data"
   ]
  },
  {
   "cell_type": "code",
   "execution_count": 6,
   "metadata": {},
   "outputs": [
    {
     "name": "stderr",
     "output_type": "stream",
     "text": [
      "2024-10-28 11:51:29,475\tINFO worker.py:1807 -- Started a local Ray instance. View the dashboard at \u001b[1m\u001b[32mhttp://10.210.1.81:8265 \u001b[39m\u001b[22m\n"
     ]
    },
    {
     "data": {
      "application/vnd.jupyter.widget-view+json": {
       "model_id": "a605f4278f0f4b4a94bd6b8d53134b25",
       "version_major": 2,
       "version_minor": 0
      },
      "text/html": [
       "<div class=\"lm-Widget p-Widget lm-Panel p-Panel jp-Cell-outputWrapper\">\n",
       "    <div style=\"margin-left: 50px;display: flex;flex-direction: row;align-items: center\">\n",
       "        <div class=\"jp-RenderedHTMLCommon\" style=\"display: flex; flex-direction: row;\">\n",
       "  <svg viewBox=\"0 0 567 224\" fill=\"none\" xmlns=\"http://www.w3.org/2000/svg\" style=\"height: 3em;\">\n",
       "    <g clip-path=\"url(#clip0_4338_178347)\">\n",
       "        <path d=\"M341.29 165.561H355.29L330.13 129.051C345.63 123.991 354.21 112.051 354.21 94.2307C354.21 71.3707 338.72 58.1807 311.88 58.1807H271V165.561H283.27V131.661H311.8C314.25 131.661 316.71 131.501 319.01 131.351L341.25 165.561H341.29ZM283.29 119.851V70.0007H311.82C331.3 70.0007 342.34 78.2907 342.34 94.5507C342.34 111.271 331.34 119.861 311.82 119.861L283.29 119.851ZM451.4 138.411L463.4 165.561H476.74L428.74 58.1807H416L367.83 165.561H380.83L392.83 138.411H451.4ZM446.19 126.601H398L422 72.1407L446.24 126.601H446.19ZM526.11 128.741L566.91 58.1807H554.35L519.99 114.181L485.17 58.1807H472.44L514.01 129.181V165.541H526.13V128.741H526.11Z\" fill=\"var(--jp-ui-font-color0)\"/>\n",
       "        <path d=\"M82.35 104.44C84.0187 97.8827 87.8248 92.0678 93.1671 87.9146C98.5094 83.7614 105.083 81.5067 111.85 81.5067C118.617 81.5067 125.191 83.7614 130.533 87.9146C135.875 92.0678 139.681 97.8827 141.35 104.44H163.75C164.476 101.562 165.622 98.8057 167.15 96.2605L127.45 56.5605C121.071 60.3522 113.526 61.6823 106.235 60.3005C98.9443 58.9187 92.4094 54.9203 87.8602 49.0574C83.3109 43.1946 81.0609 35.8714 81.5332 28.4656C82.0056 21.0599 85.1679 14.0819 90.4252 8.8446C95.6824 3.60726 102.672 0.471508 110.08 0.0272655C117.487 -0.416977 124.802 1.86091 130.647 6.4324C136.493 11.0039 140.467 17.5539 141.821 24.8501C143.175 32.1463 141.816 39.6859 138 46.0505L177.69 85.7505C182.31 82.9877 187.58 81.4995 192.962 81.4375C198.345 81.3755 203.648 82.742 208.33 85.3976C213.012 88.0532 216.907 91.9029 219.616 96.5544C222.326 101.206 223.753 106.492 223.753 111.875C223.753 117.258 222.326 122.545 219.616 127.197C216.907 131.848 213.012 135.698 208.33 138.353C203.648 141.009 198.345 142.375 192.962 142.313C187.58 142.251 182.31 140.763 177.69 138L138 177.7C141.808 184.071 143.155 191.614 141.79 198.91C140.424 206.205 136.44 212.75 130.585 217.313C124.731 221.875 117.412 224.141 110.004 223.683C102.596 223.226 95.6103 220.077 90.3621 214.828C85.1139 209.58 81.9647 202.595 81.5072 195.187C81.0497 187.779 83.3154 180.459 87.878 174.605C92.4405 168.751 98.9853 164.766 106.281 163.401C113.576 162.035 121.119 163.383 127.49 167.19L167.19 127.49C165.664 124.941 164.518 122.182 163.79 119.3H141.39C139.721 125.858 135.915 131.673 130.573 135.826C125.231 139.98 118.657 142.234 111.89 142.234C105.123 142.234 98.5494 139.98 93.2071 135.826C87.8648 131.673 84.0587 125.858 82.39 119.3H60C58.1878 126.495 53.8086 132.78 47.6863 136.971C41.5641 141.163 34.1211 142.972 26.7579 142.059C19.3947 141.146 12.6191 137.574 7.70605 132.014C2.79302 126.454 0.0813599 119.29 0.0813599 111.87C0.0813599 104.451 2.79302 97.2871 7.70605 91.7272C12.6191 86.1673 19.3947 82.5947 26.7579 81.6817C34.1211 80.7686 41.5641 82.5781 47.6863 86.7696C53.8086 90.9611 58.1878 97.2456 60 104.44H82.35ZM100.86 204.32C103.407 206.868 106.759 208.453 110.345 208.806C113.93 209.159 117.527 208.258 120.522 206.256C123.517 204.254 125.725 201.276 126.771 197.828C127.816 194.38 127.633 190.677 126.253 187.349C124.874 184.021 122.383 181.274 119.205 179.577C116.027 177.88 112.359 177.337 108.826 178.042C105.293 178.746 102.113 180.654 99.8291 183.44C97.5451 186.226 96.2979 189.718 96.3 193.32C96.2985 195.364 96.7006 197.388 97.4831 199.275C98.2656 201.163 99.4132 202.877 100.86 204.32ZM204.32 122.88C206.868 120.333 208.453 116.981 208.806 113.396C209.159 109.811 208.258 106.214 206.256 103.219C204.254 100.223 201.275 98.0151 197.827 96.97C194.38 95.9249 190.676 96.1077 187.348 97.4873C184.02 98.8669 181.274 101.358 179.577 104.536C177.879 107.714 177.337 111.382 178.041 114.915C178.746 118.448 180.653 121.627 183.439 123.911C186.226 126.195 189.717 127.443 193.32 127.44C195.364 127.443 197.388 127.042 199.275 126.259C201.163 125.476 202.878 124.328 204.32 122.88ZM122.88 19.4205C120.333 16.8729 116.981 15.2876 113.395 14.9347C109.81 14.5817 106.213 15.483 103.218 17.4849C100.223 19.4868 98.0146 22.4654 96.9696 25.9131C95.9245 29.3608 96.1073 33.0642 97.4869 36.3922C98.8665 39.7202 101.358 42.4668 104.535 44.1639C107.713 45.861 111.381 46.4036 114.914 45.6992C118.447 44.9949 121.627 43.0871 123.911 40.301C126.195 37.515 127.442 34.0231 127.44 30.4205C127.44 28.3772 127.038 26.3539 126.255 24.4664C125.473 22.5788 124.326 20.8642 122.88 19.4205ZM19.42 100.86C16.8725 103.408 15.2872 106.76 14.9342 110.345C14.5813 113.93 15.4826 117.527 17.4844 120.522C19.4863 123.518 22.4649 125.726 25.9127 126.771C29.3604 127.816 33.0638 127.633 36.3918 126.254C39.7198 124.874 42.4664 122.383 44.1635 119.205C45.8606 116.027 46.4032 112.359 45.6988 108.826C44.9944 105.293 43.0866 102.114 40.3006 99.8296C37.5145 97.5455 34.0227 96.2983 30.42 96.3005C26.2938 96.3018 22.337 97.9421 19.42 100.86ZM100.86 100.86C98.3125 103.408 96.7272 106.76 96.3742 110.345C96.0213 113.93 96.9226 117.527 98.9244 120.522C100.926 123.518 103.905 125.726 107.353 126.771C110.8 127.816 114.504 127.633 117.832 126.254C121.16 124.874 123.906 122.383 125.604 119.205C127.301 116.027 127.843 112.359 127.139 108.826C126.434 105.293 124.527 102.114 121.741 99.8296C118.955 97.5455 115.463 96.2983 111.86 96.3005C109.817 96.299 107.793 96.701 105.905 97.4835C104.018 98.2661 102.303 99.4136 100.86 100.86Z\" fill=\"#00AEEF\"/>\n",
       "    </g>\n",
       "    <defs>\n",
       "        <clipPath id=\"clip0_4338_178347\">\n",
       "            <rect width=\"566.93\" height=\"223.75\" fill=\"white\"/>\n",
       "        </clipPath>\n",
       "    </defs>\n",
       "  </svg>\n",
       "</div>\n",
       "\n",
       "        <table class=\"jp-RenderedHTMLCommon\" style=\"border-collapse: collapse;color: var(--jp-ui-font-color1);font-size: var(--jp-ui-font-size1);\">\n",
       "    <tr>\n",
       "        <td style=\"text-align: left\"><b>Python version:</b></td>\n",
       "        <td style=\"text-align: left\"><b>3.11.10</b></td>\n",
       "    </tr>\n",
       "    <tr>\n",
       "        <td style=\"text-align: left\"><b>Ray version:</b></td>\n",
       "        <td style=\"text-align: left\"><b>2.38.0</b></td>\n",
       "    </tr>\n",
       "    <tr>\n",
       "    <td style=\"text-align: left\"><b>Dashboard:</b></td>\n",
       "    <td style=\"text-align: left\"><b><a href=\"http://10.210.1.81:8265\" target=\"_blank\">http://10.210.1.81:8265</a></b></td>\n",
       "</tr>\n",
       "\n",
       "</table>\n",
       "\n",
       "    </div>\n",
       "</div>\n"
      ],
      "text/plain": [
       "RayContext(dashboard_url='10.210.1.81:8265', python_version='3.11.10', ray_version='2.38.0', ray_commit='385ee466260ef3cd218d5e372aef5d39338b7b94')"
      ]
     },
     "execution_count": 6,
     "metadata": {},
     "output_type": "execute_result"
    }
   ],
   "source": [
    "ray.init(dashboard_host=\"0.0.0.0\")"
   ]
  },
  {
   "cell_type": "code",
   "execution_count": 7,
   "metadata": {
    "id": "p4WeUrueu4V-"
   },
   "outputs": [],
   "source": [
    "df = pd.read_csv('data/train.csv')\n",
    "submission = pd.read_csv('data/test.csv')\n",
    "test_ids = submission.copy()['Id']"
   ]
  },
  {
   "cell_type": "markdown",
   "metadata": {
    "id": "HREzRWg8vX0_"
   },
   "source": [
    "### EDA"
   ]
  },
  {
   "cell_type": "code",
   "execution_count": 8,
   "metadata": {},
   "outputs": [
    {
     "data": {
      "text/html": [
       "<div>\n",
       "<style scoped>\n",
       "    .dataframe tbody tr th:only-of-type {\n",
       "        vertical-align: middle;\n",
       "    }\n",
       "\n",
       "    .dataframe tbody tr th {\n",
       "        vertical-align: top;\n",
       "    }\n",
       "\n",
       "    .dataframe thead th {\n",
       "        text-align: right;\n",
       "    }\n",
       "</style>\n",
       "<table border=\"1\" class=\"dataframe\">\n",
       "  <thead>\n",
       "    <tr style=\"text-align: right;\">\n",
       "      <th></th>\n",
       "      <th>Id</th>\n",
       "      <th>ProductId</th>\n",
       "      <th>UserId</th>\n",
       "      <th>HelpfulnessNumerator</th>\n",
       "      <th>HelpfulnessDenominator</th>\n",
       "      <th>Time</th>\n",
       "      <th>Summary</th>\n",
       "      <th>Text</th>\n",
       "      <th>Score</th>\n",
       "    </tr>\n",
       "  </thead>\n",
       "  <tbody>\n",
       "    <tr>\n",
       "      <th>0</th>\n",
       "      <td>914403</td>\n",
       "      <td>B0009W5KHM</td>\n",
       "      <td>AV6QDP8Q0ONK4</td>\n",
       "      <td>2</td>\n",
       "      <td>2</td>\n",
       "      <td>1341014400</td>\n",
       "      <td>GOOD FUN FILM</td>\n",
       "      <td>While most straight to DVD films are not worth...</td>\n",
       "      <td>5.0</td>\n",
       "    </tr>\n",
       "    <tr>\n",
       "      <th>1</th>\n",
       "      <td>354887</td>\n",
       "      <td>6303079709</td>\n",
       "      <td>A2I8RXJN80A2D2</td>\n",
       "      <td>0</td>\n",
       "      <td>0</td>\n",
       "      <td>1168819200</td>\n",
       "      <td>Movie Review</td>\n",
       "      <td>I have wanted this one for sometime, also.  I ...</td>\n",
       "      <td>5.0</td>\n",
       "    </tr>\n",
       "    <tr>\n",
       "      <th>2</th>\n",
       "      <td>1407653</td>\n",
       "      <td>B004H0M2XC</td>\n",
       "      <td>A3FHV3RV8Z12E6</td>\n",
       "      <td>0</td>\n",
       "      <td>0</td>\n",
       "      <td>1386201600</td>\n",
       "      <td>When is it a good time to Consent?</td>\n",
       "      <td>Actually this was a pretty darn good indie fil...</td>\n",
       "      <td>4.0</td>\n",
       "    </tr>\n",
       "    <tr>\n",
       "      <th>3</th>\n",
       "      <td>1377458</td>\n",
       "      <td>B003ZJ9536</td>\n",
       "      <td>A12VLTA3ZHVPUY</td>\n",
       "      <td>1</td>\n",
       "      <td>1</td>\n",
       "      <td>1348704000</td>\n",
       "      <td>TRUTH</td>\n",
       "      <td>Episodes 37 to 72 of the series press on in a ...</td>\n",
       "      <td>5.0</td>\n",
       "    </tr>\n",
       "    <tr>\n",
       "      <th>4</th>\n",
       "      <td>475323</td>\n",
       "      <td>630574453X</td>\n",
       "      <td>A13NM1PES9OXVN</td>\n",
       "      <td>2</td>\n",
       "      <td>3</td>\n",
       "      <td>970012800</td>\n",
       "      <td>Intelligent and bittersweet -- stays with you</td>\n",
       "      <td>I was really impressed with this movie, but wa...</td>\n",
       "      <td>3.0</td>\n",
       "    </tr>\n",
       "  </tbody>\n",
       "</table>\n",
       "</div>"
      ],
      "text/plain": [
       "        Id   ProductId          UserId  HelpfulnessNumerator  \\\n",
       "0   914403  B0009W5KHM   AV6QDP8Q0ONK4                     2   \n",
       "1   354887  6303079709  A2I8RXJN80A2D2                     0   \n",
       "2  1407653  B004H0M2XC  A3FHV3RV8Z12E6                     0   \n",
       "3  1377458  B003ZJ9536  A12VLTA3ZHVPUY                     1   \n",
       "4   475323  630574453X  A13NM1PES9OXVN                     2   \n",
       "\n",
       "   HelpfulnessDenominator        Time  \\\n",
       "0                       2  1341014400   \n",
       "1                       0  1168819200   \n",
       "2                       0  1386201600   \n",
       "3                       1  1348704000   \n",
       "4                       3   970012800   \n",
       "\n",
       "                                         Summary  \\\n",
       "0                                  GOOD FUN FILM   \n",
       "1                                   Movie Review   \n",
       "2             When is it a good time to Consent?   \n",
       "3                                          TRUTH   \n",
       "4  Intelligent and bittersweet -- stays with you   \n",
       "\n",
       "                                                Text  Score  \n",
       "0  While most straight to DVD films are not worth...    5.0  \n",
       "1  I have wanted this one for sometime, also.  I ...    5.0  \n",
       "2  Actually this was a pretty darn good indie fil...    4.0  \n",
       "3  Episodes 37 to 72 of the series press on in a ...    5.0  \n",
       "4  I was really impressed with this movie, but wa...    3.0  "
      ]
     },
     "execution_count": 8,
     "metadata": {},
     "output_type": "execute_result"
    }
   ],
   "source": [
    "df.head()"
   ]
  },
  {
   "cell_type": "code",
   "execution_count": 9,
   "metadata": {},
   "outputs": [
    {
     "data": {
      "text/html": [
       "<div>\n",
       "<style scoped>\n",
       "    .dataframe tbody tr th:only-of-type {\n",
       "        vertical-align: middle;\n",
       "    }\n",
       "\n",
       "    .dataframe tbody tr th {\n",
       "        vertical-align: top;\n",
       "    }\n",
       "\n",
       "    .dataframe thead th {\n",
       "        text-align: right;\n",
       "    }\n",
       "</style>\n",
       "<table border=\"1\" class=\"dataframe\">\n",
       "  <thead>\n",
       "    <tr style=\"text-align: right;\">\n",
       "      <th></th>\n",
       "      <th>Id</th>\n",
       "      <th>HelpfulnessNumerator</th>\n",
       "      <th>HelpfulnessDenominator</th>\n",
       "      <th>Time</th>\n",
       "      <th>Score</th>\n",
       "    </tr>\n",
       "  </thead>\n",
       "  <tbody>\n",
       "    <tr>\n",
       "      <th>count</th>\n",
       "      <td>1.697533e+06</td>\n",
       "      <td>1.697533e+06</td>\n",
       "      <td>1.697533e+06</td>\n",
       "      <td>1.697533e+06</td>\n",
       "      <td>1.485341e+06</td>\n",
       "    </tr>\n",
       "    <tr>\n",
       "      <th>mean</th>\n",
       "      <td>8.487660e+05</td>\n",
       "      <td>3.569048e+00</td>\n",
       "      <td>5.301422e+00</td>\n",
       "      <td>1.262422e+09</td>\n",
       "      <td>4.110517e+00</td>\n",
       "    </tr>\n",
       "    <tr>\n",
       "      <th>std</th>\n",
       "      <td>4.900357e+05</td>\n",
       "      <td>1.727883e+01</td>\n",
       "      <td>2.024445e+01</td>\n",
       "      <td>1.289277e+08</td>\n",
       "      <td>1.197651e+00</td>\n",
       "    </tr>\n",
       "    <tr>\n",
       "      <th>min</th>\n",
       "      <td>0.000000e+00</td>\n",
       "      <td>0.000000e+00</td>\n",
       "      <td>0.000000e+00</td>\n",
       "      <td>8.793792e+08</td>\n",
       "      <td>1.000000e+00</td>\n",
       "    </tr>\n",
       "    <tr>\n",
       "      <th>25%</th>\n",
       "      <td>4.243830e+05</td>\n",
       "      <td>0.000000e+00</td>\n",
       "      <td>0.000000e+00</td>\n",
       "      <td>1.164413e+09</td>\n",
       "      <td>4.000000e+00</td>\n",
       "    </tr>\n",
       "    <tr>\n",
       "      <th>50%</th>\n",
       "      <td>8.487660e+05</td>\n",
       "      <td>1.000000e+00</td>\n",
       "      <td>1.000000e+00</td>\n",
       "      <td>1.307491e+09</td>\n",
       "      <td>5.000000e+00</td>\n",
       "    </tr>\n",
       "    <tr>\n",
       "      <th>75%</th>\n",
       "      <td>1.273149e+06</td>\n",
       "      <td>3.000000e+00</td>\n",
       "      <td>5.000000e+00</td>\n",
       "      <td>1.373242e+09</td>\n",
       "      <td>5.000000e+00</td>\n",
       "    </tr>\n",
       "    <tr>\n",
       "      <th>max</th>\n",
       "      <td>1.697532e+06</td>\n",
       "      <td>6.084000e+03</td>\n",
       "      <td>6.510000e+03</td>\n",
       "      <td>1.406074e+09</td>\n",
       "      <td>5.000000e+00</td>\n",
       "    </tr>\n",
       "  </tbody>\n",
       "</table>\n",
       "</div>"
      ],
      "text/plain": [
       "                 Id  HelpfulnessNumerator  HelpfulnessDenominator  \\\n",
       "count  1.697533e+06          1.697533e+06            1.697533e+06   \n",
       "mean   8.487660e+05          3.569048e+00            5.301422e+00   \n",
       "std    4.900357e+05          1.727883e+01            2.024445e+01   \n",
       "min    0.000000e+00          0.000000e+00            0.000000e+00   \n",
       "25%    4.243830e+05          0.000000e+00            0.000000e+00   \n",
       "50%    8.487660e+05          1.000000e+00            1.000000e+00   \n",
       "75%    1.273149e+06          3.000000e+00            5.000000e+00   \n",
       "max    1.697532e+06          6.084000e+03            6.510000e+03   \n",
       "\n",
       "               Time         Score  \n",
       "count  1.697533e+06  1.485341e+06  \n",
       "mean   1.262422e+09  4.110517e+00  \n",
       "std    1.289277e+08  1.197651e+00  \n",
       "min    8.793792e+08  1.000000e+00  \n",
       "25%    1.164413e+09  4.000000e+00  \n",
       "50%    1.307491e+09  5.000000e+00  \n",
       "75%    1.373242e+09  5.000000e+00  \n",
       "max    1.406074e+09  5.000000e+00  "
      ]
     },
     "execution_count": 9,
     "metadata": {},
     "output_type": "execute_result"
    }
   ],
   "source": [
    "df.describe()"
   ]
  },
  {
   "cell_type": "markdown",
   "metadata": {
    "id": "fZNpRRYrprih"
   },
   "source": [
    "#### Testing for Class Imbalance"
   ]
  },
  {
   "cell_type": "code",
   "execution_count": null,
   "metadata": {
    "colab": {
     "base_uri": "https://localhost:8080/",
     "height": 497
    },
    "id": "LQIkRBoavNnr",
    "outputId": "8b842288-a778-4d0f-d1e1-6e3f6f8dadab"
   },
   "outputs": [],
   "source": [
    "plt.figure(figsize=(8, 5))\n",
    "sns.countplot(data=df._to_pandas(), x='Score')\n",
    "plt.title(\"Score Distribution\")\n",
    "plt.show()"
   ]
  },
  {
   "cell_type": "markdown",
   "metadata": {
    "id": "WzWkq6LBvi7Z"
   },
   "source": [
    "### Data Preprocessing"
   ]
  },
  {
   "cell_type": "code",
   "execution_count": 8,
   "metadata": {},
   "outputs": [],
   "source": [
    "stop_words = set(stopwords.words('english'))\n",
    "lemmatizer = WordNetLemmatizer()\n",
    "\n",
    "def clean_text(text):\n",
    "    text = str(text)\n",
    "    text = text.lower()\n",
    "\n",
    "    # Remove URLs, special characters, numbers, and extra whitespace\n",
    "    text = re.sub(r'http\\S+|www\\S+|https\\S+', '', text)  # URLs\n",
    "    text = re.sub(r'\\d+', '', text)  # Numbers\n",
    "    text = re.sub(r'[^a-zA-Z\\s]', '', text)  # Special characters and punctuation\n",
    "\n",
    "    # Tokenize the text\n",
    "    tokens = word_tokenize(text)\n",
    "\n",
    "    # Remove stopwords and apply lemmatization\n",
    "    cleaned_tokens = [lemmatizer.lemmatize(token) for token in tokens if token not in stop_words]\n",
    "    \n",
    "    # Rejoin tokens into a single string\n",
    "    return ' '.join(cleaned_tokens)\n",
    "\n",
    "df['Text'] = df['Text'].apply(clean_text)"
   ]
  },
  {
   "cell_type": "markdown",
   "metadata": {},
   "source": [
    "#### Preparing Training Data"
   ]
  },
  {
   "cell_type": "code",
   "execution_count": 9,
   "metadata": {},
   "outputs": [],
   "source": [
    "train_df = df[df['Score'].notna()][:100_000]\n",
    "test_df = df[(df['Score'].isna()) & (df['Id'].isin(test_ids))]"
   ]
  },
  {
   "cell_type": "markdown",
   "metadata": {},
   "source": [
    "Vectorizing Text"
   ]
  },
  {
   "cell_type": "code",
   "execution_count": 10,
   "metadata": {},
   "outputs": [],
   "source": [
    "def prepare_data(dataframe):\n",
    "    count_vec = CountVectorizer()\n",
    "    counts = count_vec.fit_transform(dataframe['Text'].fillna(\"\")._to_pandas())\n",
    "    tf_transformer = TfidfTransformer(use_idf=False).fit(counts)\n",
    "    text_features = tf_transformer.transform(counts).get()\n",
    "    return count_vec, tf_transformer, text_features"
   ]
  },
  {
   "cell_type": "code",
   "execution_count": 11,
   "metadata": {},
   "outputs": [],
   "source": [
    "count_vec, tf_transformer, train_X_structured = prepare_data(train_df)\n",
    "train_y_structured = train_df[['Score']].astype(int)._to_pandas().to_numpy()"
   ]
  },
  {
   "cell_type": "markdown",
   "metadata": {},
   "source": [
    "Oversampling data to reduce class imbalance"
   ]
  },
  {
   "cell_type": "code",
   "execution_count": 14,
   "metadata": {},
   "outputs": [
    {
     "name": "stdout",
     "output_type": "stream",
     "text": [
      "[I] [11:53:10.179355] Unused keyword parameter: n_jobs during cuML estimator initialization\n"
     ]
    }
   ],
   "source": [
    "nn = NearestNeighbors(n_neighbors=10)\n",
    "train_X_resampled, train_y_resampled = SMOTE(k_neighbors=nn).fit_resample(train_X_structured, train_y_structured)"
   ]
  },
  {
   "cell_type": "code",
   "execution_count": null,
   "metadata": {},
   "outputs": [],
   "source": [
    "import collections\n",
    "data = collections.Counter(train_y_resampled)\n",
    "ax = sns.barplot(data).set(xlabel='Scores', ylabel='Count', title='Score Distribution')"
   ]
  },
  {
   "cell_type": "code",
   "execution_count": 15,
   "metadata": {},
   "outputs": [],
   "source": [
    "le = LabelEncoder()\n",
    "train_y_resampled = le.fit_transform(train_y_resampled)\n",
    "classes = np.unique(train_y_resampled)"
   ]
  },
  {
   "cell_type": "code",
   "execution_count": 16,
   "metadata": {},
   "outputs": [],
   "source": [
    "storage_name = \"sqlite:///storage.db\""
   ]
  },
  {
   "cell_type": "code",
   "execution_count": 17,
   "metadata": {},
   "outputs": [],
   "source": [
    "storage = optuna.storages.RDBStorage(url=storage_name, engine_kwargs={\"connect_args\": {\"timeout\": 100}})"
   ]
  },
  {
   "cell_type": "markdown",
   "metadata": {},
   "source": [
    "### Training"
   ]
  },
  {
   "cell_type": "code",
   "execution_count": 18,
   "metadata": {},
   "outputs": [],
   "source": [
    "def fit(X_train, y_train, model, model_name, batch_size):\n",
    "    global classes\n",
    "    X_train_shuffled, y_train_shuffled = shuffle(X_train, y_train, random_state=42)\n",
    "    if model_name in {\"knn\", \"random_forest\", \"xgboost\"}:\n",
    "        model.fit(X_train_shuffled, y_train_shuffled)\n",
    "    else:\n",
    "        # Batch training loop\n",
    "        n_batches = X_train_shuffled.shape[0] // batch_size\n",
    "        for batch in range(n_batches + 1):\n",
    "            start = batch * batch_size\n",
    "            end = min((batch + 1) * batch_size, X_train_shuffled.shape[0])\n",
    "            X_batch, y_batch = X_train_shuffled[start:end], y_train_shuffled[start:end]\n",
    "            \n",
    "            # Train incrementally where applicable\n",
    "            if end - start == 0:\n",
    "                break\n",
    "            if batch % 1000 == 0:\n",
    "                print(\"[%s] batch :%d/%d\" % (model_name, batch, n_batches + 1))\n",
    "            if model_name in {'logistic_regression', 'svc', 'multinomialnb', 'gaussiannb'}:\n",
    "                if model_name == \"gaussiannb\":\n",
    "                    if hasattr(X_batch, \"toarray\"):\n",
    "                        X_batch = X_batch.toarray()\n",
    "                model.partial_fit(X_batch, y_batch, classes=classes)\n",
    "    return model"
   ]
  },
  {
   "cell_type": "code",
   "execution_count": 19,
   "metadata": {
    "id": "H-2izv4Mv1Yg"
   },
   "outputs": [],
   "source": [
    "def fit_predict(model_name, params, X_train, y_train, X_val, y_val, trial_num=None):\n",
    "    \"\"\"Fits model with given params and returns score on validation set.\"\"\"\n",
    "    batch_size = 0\n",
    "    if \"batch_size\" in params:\n",
    "        batch_size = params.pop(\"batch_size\")\n",
    "    if model_name == 'random_forest':\n",
    "        model = RandomForestClassifier(**params)\n",
    "        print(model)\n",
    "    elif model_name == 'logistic_regression':\n",
    "        model = SGDClassifier(loss=\"log_loss\", **params)\n",
    "    elif model_name == 'svc':\n",
    "        model = SGDClassifier(loss=\"hinge\", **params)\n",
    "    elif model_name == 'knn':\n",
    "        model = KNeighborsClassifier(**params)\n",
    "    elif model_name == 'xgboost':\n",
    "        model = xgb.XGBClassifier(**params, use_label_encoder=False, device=\"gpu\", eval_metric='mlogloss')\n",
    "    elif model_name == \"multinomialnb\":\n",
    "        model = MultinomialNB(**params)\n",
    "    elif model_name == \"gaussiannb\":\n",
    "        model = GaussianNB(**params)\n",
    "    else:\n",
    "        raise ValueError(\"Model not supported\")\n",
    "\n",
    "    model = fit(X_train, y_train, model, model_name, batch_size)\n",
    "    if trial_num is not None:\n",
    "        with open(\"%s-%d.pkl\" % (model_name, trial_num), \"wb\") as f:\n",
    "            pickle.dump(model, f)\n",
    "    # Predict on validation set\n",
    "    y_pred = model.predict(X_val)\n",
    "    score = accuracy_score(y_val, y_pred)\n",
    "    return score"
   ]
  },
  {
   "cell_type": "code",
   "execution_count": 20,
   "metadata": {
    "id": "FHN9XGJOv3wF"
   },
   "outputs": [],
   "source": [
    "def get_objective(model_name, X_train, y_train, X_val, y_val):\n",
    "    def objective(trial):\n",
    "        if model_name == \"random_forest\":\n",
    "            params = {\n",
    "                \"n_estimators\": trial.suggest_int(\"rf/n_estimators\", 50, 300),\n",
    "                \"max_depth\": trial.suggest_int(\"rf/max_depth\", 5, 20),\n",
    "            }\n",
    "        elif model_name == \"logistic_regression\":\n",
    "            params = {\n",
    "                \"alpha\": trial.suggest_float(\"lr/alpha\", 1e-4, 1e-1, log=True),  # Regularization parameter for SGD\n",
    "                \"l1_ratio\": trial.suggest_float(\"lr/l1_ratio\", 1e-10, 1, log=True),\n",
    "                \"learning_rate\": trial.suggest_categorical(\"lr/learning_rate\", [\"optimal\", \"invscaling\", \"adaptive\"]),\n",
    "                \"penalty\": trial.suggest_categorical(\"lr/penalty\", [\"l2\", \"l1\", \"elasticnet\"]),\n",
    "                \"eta0\": trial.suggest_float(\"lr/eta0\", 5e-5, 5e-1, log=True),\n",
    "                \"batch_size\": trial.suggest_categorical(\"lr/batch_size\", [128, 256, 512, 2048])\n",
    "            }\n",
    "        elif model_name == \"svc\":\n",
    "            params = {\n",
    "                \"alpha\": trial.suggest_float(\"svc/alpha\", 1e-4, 1e-1, log=True),  # Regularization parameter for SGD\n",
    "                \"l1_ratio\": trial.suggest_float(\"svc/l1_ratio\", 1e-10, 1, log=True),\n",
    "                \"learning_rate\": trial.suggest_categorical(\"svc/learning_rate\", [\"optimal\", \"invscaling\", \"adaptive\"]),\n",
    "                \"penalty\": trial.suggest_categorical(\"svc/penalty\", [\"l2\", \"l1\", \"elasticnet\"]),\n",
    "                \"eta0\": trial.suggest_float(\"svc/eta0\", 5e-5, 5e-1, log=True),\n",
    "                \"batch_size\": trial.suggest_categorical(\"svc/batch_size\", [128, 256, 512, 2048])\n",
    "            }\n",
    "        elif model_name == \"knn\":\n",
    "            params = {\n",
    "                \"n_neighbors\": trial.suggest_int(\"knn/n_neighbors\", 10, 500),\n",
    "                \"p\": trial.suggest_categorical(\"knn/p\", [1, 2]),\n",
    "                \"leaf_size\": trial.suggest_int(\"knn/leaf_size\", 30, 100)\n",
    "            }\n",
    "        elif model_name == \"xgboost\":\n",
    "            params = {\n",
    "                \"n_estimators\": trial.suggest_int(\"xgb/n_estimators\", 50, 300),\n",
    "                \"max_depth\": trial.suggest_int(\"xgb/max_depth\", 5, 20),\n",
    "                \"learning_rate\": trial.suggest_float(\"xgb/learning_rate\", 0.01, 0.3),\n",
    "                \"colsample_bytree\": trial.suggest_float(\"xgb/colsample_bytree\", 0.5, 1.0),\n",
    "                \"subsample\": 0.1,\n",
    "            }\n",
    "        elif model_name == \"multinomialnb\":\n",
    "            params = {\n",
    "                \"alpha\": trial.suggest_float(\"multinomial/alpha\", 0.1, 5.0),\n",
    "                \"batch_size\": trial.suggest_categorical(\"multinomial/batch_size\", [2**6, 2**8, 2**10, 2**12, 2**14])\n",
    "            }\n",
    "        elif model_name == \"gaussiannb\":\n",
    "            params = {\n",
    "                \"var_smoothing\": trial.suggest_float(\"gaussiannb/var_smoothing\", 1e-10, 1e-5),\n",
    "                \"batch_size\": trial.suggest_categorical(\"gaussiannb/batch_size\", [2**6, 2**8, 2**10, 2**12, 2**14])\n",
    "            }\n",
    "        else:\n",
    "            raise ValueError(\"Model not supported\")\n",
    "        \n",
    "        score = fit_predict(model_name, params, X_train, y_train, X_val, y_val, trial.number)\n",
    "        return score\n",
    "\n",
    "    return objective"
   ]
  },
  {
   "cell_type": "code",
   "execution_count": 21,
   "metadata": {},
   "outputs": [],
   "source": [
    "@ray.remote(num_cpus=2, num_gpus=1)\n",
    "def optimize(model_name, study_name, storage_name, X_train, y_train, X_val, y_val):\n",
    "    objective_fn = get_objective(model_name, X_train, y_train, X_val, y_val)\n",
    "    storage = optuna.storages.RDBStorage(url=storage_name, engine_kwargs={\"connect_args\": {\"timeout\": 100}})\n",
    "    study = optuna.load_study(study_name, storage)\n",
    "    study.optimize(objective_fn, n_trials=1)\n",
    "\n",
    "def launch_studies_ray(model_name, X_train_id, y_train_id, X_val_id, y_val_id, n_trials=50):\n",
    "    refs = []\n",
    "    for i in range(n_trials):\n",
    "        refs.append(optimize.remote(model_name, model_name, storage_name, X_train_id, y_train_id, X_val_id, y_val_id))\n",
    "    ray.get(refs)"
   ]
  },
  {
   "cell_type": "code",
   "execution_count": 22,
   "metadata": {
    "id": "kCo25rSDvxhE"
   },
   "outputs": [],
   "source": [
    "X_train, X_val, y_train, y_val = train_test_split(train_X_resampled, train_y_resampled, test_size=0.2, random_state=42)"
   ]
  },
  {
   "cell_type": "code",
   "execution_count": 22,
   "metadata": {},
   "outputs": [],
   "source": [
    "models = [\"xgboost\", \"svc\", \"knn\", \"logistic_regression\", \"multinomialnb\"]\n",
    "for k in models:\n",
    "    optuna.create_study(direction=\"maximize\", study_name=k, storage=storage)"
   ]
  },
  {
   "cell_type": "code",
   "execution_count": 46,
   "metadata": {
    "colab": {
     "base_uri": "https://localhost:8080/"
    },
    "id": "jdvWgVHov9He",
    "outputId": "9f986d8a-b52c-498b-c099-11bd2422b265"
   },
   "outputs": [
    {
     "name": "stdout",
     "output_type": "stream",
     "text": [
      "Now Optimizing: xgboost\n"
     ]
    },
    {
     "name": "stderr",
     "output_type": "stream",
     "text": [
      "[2024-10-28 11:49:55,242 E 66753 67286] core_worker.cc:662: :info_message: Attempting to recover 308 lost objects by resubmitting their tasks. To disable object reconstruction, set @ray.remote(max_retries=0).\n"
     ]
    },
    {
     "ename": "LocalRayletDiedError",
     "evalue": "The task's local raylet died. Check raylet.out for more information.",
     "output_type": "error",
     "traceback": [
      "\u001b[0;31m---------------------------------------------------------------------------\u001b[0m",
      "\u001b[0;31mLocalRayletDiedError\u001b[0m                      Traceback (most recent call last)",
      "Cell \u001b[0;32mIn[46], line 9\u001b[0m\n\u001b[1;32m      7\u001b[0m \u001b[38;5;28;01mfor\u001b[39;00m model \u001b[38;5;129;01min\u001b[39;00m models:\n\u001b[1;32m      8\u001b[0m     \u001b[38;5;28mprint\u001b[39m(\u001b[38;5;124m\"\u001b[39m\u001b[38;5;124mNow Optimizing:\u001b[39m\u001b[38;5;124m\"\u001b[39m, model)\n\u001b[0;32m----> 9\u001b[0m     \u001b[43mlaunch_studies_ray\u001b[49m\u001b[43m(\u001b[49m\u001b[43mmodel\u001b[49m\u001b[43m,\u001b[49m\u001b[43m \u001b[49m\u001b[43mX_train_id\u001b[49m\u001b[43m,\u001b[49m\u001b[43m \u001b[49m\u001b[43my_train_id\u001b[49m\u001b[43m,\u001b[49m\u001b[43m \u001b[49m\u001b[43mX_val_id\u001b[49m\u001b[43m,\u001b[49m\u001b[43m \u001b[49m\u001b[43my_val_id\u001b[49m\u001b[43m,\u001b[49m\u001b[43m \u001b[49m\u001b[43mn_trials\u001b[49m\u001b[38;5;241;43m=\u001b[39;49m\u001b[38;5;241;43m50\u001b[39;49m\u001b[43m)\u001b[49m\n",
      "Cell \u001b[0;32mIn[21], line 12\u001b[0m, in \u001b[0;36mlaunch_studies_ray\u001b[0;34m(model_name, X_train_id, y_train_id, X_val_id, y_val_id, n_trials)\u001b[0m\n\u001b[1;32m     10\u001b[0m \u001b[38;5;28;01mfor\u001b[39;00m i \u001b[38;5;129;01min\u001b[39;00m \u001b[38;5;28mrange\u001b[39m(n_trials):\n\u001b[1;32m     11\u001b[0m     refs\u001b[38;5;241m.\u001b[39mappend(optimize\u001b[38;5;241m.\u001b[39mremote(model_name, model_name, storage_name, X_train_id, y_train_id, X_val_id, y_val_id))\n\u001b[0;32m---> 12\u001b[0m \u001b[43mray\u001b[49m\u001b[38;5;241;43m.\u001b[39;49m\u001b[43mget\u001b[49m\u001b[43m(\u001b[49m\u001b[43mrefs\u001b[49m\u001b[43m)\u001b[49m\n",
      "File \u001b[0;32m~/miniconda3/envs/cs506/lib/python3.11/site-packages/ray/_private/auto_init_hook.py:21\u001b[0m, in \u001b[0;36mwrap_auto_init.<locals>.auto_init_wrapper\u001b[0;34m(*args, **kwargs)\u001b[0m\n\u001b[1;32m     18\u001b[0m \u001b[38;5;129m@wraps\u001b[39m(fn)\n\u001b[1;32m     19\u001b[0m \u001b[38;5;28;01mdef\u001b[39;00m \u001b[38;5;21mauto_init_wrapper\u001b[39m(\u001b[38;5;241m*\u001b[39margs, \u001b[38;5;241m*\u001b[39m\u001b[38;5;241m*\u001b[39mkwargs):\n\u001b[1;32m     20\u001b[0m     auto_init_ray()\n\u001b[0;32m---> 21\u001b[0m     \u001b[38;5;28;01mreturn\u001b[39;00m \u001b[43mfn\u001b[49m\u001b[43m(\u001b[49m\u001b[38;5;241;43m*\u001b[39;49m\u001b[43margs\u001b[49m\u001b[43m,\u001b[49m\u001b[43m \u001b[49m\u001b[38;5;241;43m*\u001b[39;49m\u001b[38;5;241;43m*\u001b[39;49m\u001b[43mkwargs\u001b[49m\u001b[43m)\u001b[49m\n",
      "File \u001b[0;32m~/miniconda3/envs/cs506/lib/python3.11/site-packages/ray/_private/client_mode_hook.py:103\u001b[0m, in \u001b[0;36mclient_mode_hook.<locals>.wrapper\u001b[0;34m(*args, **kwargs)\u001b[0m\n\u001b[1;32m    101\u001b[0m     \u001b[38;5;28;01mif\u001b[39;00m func\u001b[38;5;241m.\u001b[39m\u001b[38;5;18m__name__\u001b[39m \u001b[38;5;241m!=\u001b[39m \u001b[38;5;124m\"\u001b[39m\u001b[38;5;124minit\u001b[39m\u001b[38;5;124m\"\u001b[39m \u001b[38;5;129;01mor\u001b[39;00m is_client_mode_enabled_by_default:\n\u001b[1;32m    102\u001b[0m         \u001b[38;5;28;01mreturn\u001b[39;00m \u001b[38;5;28mgetattr\u001b[39m(ray, func\u001b[38;5;241m.\u001b[39m\u001b[38;5;18m__name__\u001b[39m)(\u001b[38;5;241m*\u001b[39margs, \u001b[38;5;241m*\u001b[39m\u001b[38;5;241m*\u001b[39mkwargs)\n\u001b[0;32m--> 103\u001b[0m \u001b[38;5;28;01mreturn\u001b[39;00m \u001b[43mfunc\u001b[49m\u001b[43m(\u001b[49m\u001b[38;5;241;43m*\u001b[39;49m\u001b[43margs\u001b[49m\u001b[43m,\u001b[49m\u001b[43m \u001b[49m\u001b[38;5;241;43m*\u001b[39;49m\u001b[38;5;241;43m*\u001b[39;49m\u001b[43mkwargs\u001b[49m\u001b[43m)\u001b[49m\n",
      "File \u001b[0;32m~/miniconda3/envs/cs506/lib/python3.11/site-packages/ray/_private/worker.py:2745\u001b[0m, in \u001b[0;36mget\u001b[0;34m(object_refs, timeout)\u001b[0m\n\u001b[1;32m   2739\u001b[0m     \u001b[38;5;28;01mraise\u001b[39;00m \u001b[38;5;167;01mValueError\u001b[39;00m(\n\u001b[1;32m   2740\u001b[0m         \u001b[38;5;124mf\u001b[39m\u001b[38;5;124m\"\u001b[39m\u001b[38;5;124mInvalid type of object refs, \u001b[39m\u001b[38;5;132;01m{\u001b[39;00m\u001b[38;5;28mtype\u001b[39m(object_refs)\u001b[38;5;132;01m}\u001b[39;00m\u001b[38;5;124m, is given. \u001b[39m\u001b[38;5;124m\"\u001b[39m\n\u001b[1;32m   2741\u001b[0m         \u001b[38;5;124m\"\u001b[39m\u001b[38;5;124m'\u001b[39m\u001b[38;5;124mobject_refs\u001b[39m\u001b[38;5;124m'\u001b[39m\u001b[38;5;124m must either be an ObjectRef or a list of ObjectRefs. \u001b[39m\u001b[38;5;124m\"\u001b[39m\n\u001b[1;32m   2742\u001b[0m     )\n\u001b[1;32m   2744\u001b[0m \u001b[38;5;66;03m# TODO(ujvl): Consider how to allow user to retrieve the ready objects.\u001b[39;00m\n\u001b[0;32m-> 2745\u001b[0m values, debugger_breakpoint \u001b[38;5;241m=\u001b[39m \u001b[43mworker\u001b[49m\u001b[38;5;241;43m.\u001b[39;49m\u001b[43mget_objects\u001b[49m\u001b[43m(\u001b[49m\u001b[43mobject_refs\u001b[49m\u001b[43m,\u001b[49m\u001b[43m \u001b[49m\u001b[43mtimeout\u001b[49m\u001b[38;5;241;43m=\u001b[39;49m\u001b[43mtimeout\u001b[49m\u001b[43m)\u001b[49m\n\u001b[1;32m   2746\u001b[0m \u001b[38;5;28;01mfor\u001b[39;00m i, value \u001b[38;5;129;01min\u001b[39;00m \u001b[38;5;28menumerate\u001b[39m(values):\n\u001b[1;32m   2747\u001b[0m     \u001b[38;5;28;01mif\u001b[39;00m \u001b[38;5;28misinstance\u001b[39m(value, RayError):\n",
      "File \u001b[0;32m~/miniconda3/envs/cs506/lib/python3.11/site-packages/ray/_private/worker.py:903\u001b[0m, in \u001b[0;36mWorker.get_objects\u001b[0;34m(self, object_refs, timeout, return_exceptions)\u001b[0m\n\u001b[1;32m    901\u001b[0m                 \u001b[38;5;28;01mraise\u001b[39;00m value\u001b[38;5;241m.\u001b[39mas_instanceof_cause()\n\u001b[1;32m    902\u001b[0m             \u001b[38;5;28;01melse\u001b[39;00m:\n\u001b[0;32m--> 903\u001b[0m                 \u001b[38;5;28;01mraise\u001b[39;00m value\n\u001b[1;32m    905\u001b[0m \u001b[38;5;28;01mreturn\u001b[39;00m values, debugger_breakpoint\n",
      "\u001b[0;31mLocalRayletDiedError\u001b[0m: The task's local raylet died. Check raylet.out for more information."
     ]
    }
   ],
   "source": [
    "if not \"X_train_id\" in globals():\n",
    "    X_train_id = ray.put(X_train)\n",
    "    y_train_id = ray.put(y_train)\n",
    "    X_val_id = ray.put(X_val)\n",
    "    y_val_id = ray.put(y_val)\n",
    "\n",
    "for model in models:\n",
    "    print(\"Now Optimizing:\", model)\n",
    "    launch_studies_ray(model, X_train_id, y_train_id, X_val_id, y_val_id, n_trials=50)"
   ]
  },
  {
   "cell_type": "markdown",
   "metadata": {},
   "source": [
    "### Inference"
   ]
  },
  {
   "cell_type": "markdown",
   "metadata": {},
   "source": [
    "#### Ensemble best of all the models"
   ]
  },
  {
   "cell_type": "code",
   "execution_count": 23,
   "metadata": {},
   "outputs": [
    {
     "name": "stdout",
     "output_type": "stream",
     "text": [
      "xgboost\n",
      "svc\n",
      "knn\n",
      "logistic_regression\n",
      "multinomialnb\n"
     ]
    }
   ],
   "source": [
    "acc = []\n",
    "best_models = []\n",
    "for model in models:\n",
    "    best_trial = optuna.load_study(study_name=model, storage=storage).best_trial\n",
    "    acc.append(best_trial.value)\n",
    "    with open(\"%s-%d.pkl\" % (model, best_trial.number), \"rb\") as f:\n",
    "        print(model)\n",
    "        best_models.append(pickle.load(f))"
   ]
  },
  {
   "cell_type": "code",
   "execution_count": 24,
   "metadata": {},
   "outputs": [],
   "source": [
    "probabilities = softmax(np.asarray(acc))"
   ]
  },
  {
   "cell_type": "code",
   "execution_count": 25,
   "metadata": {},
   "outputs": [],
   "source": [
    "test_X_structured = tf_transformer.transform(count_vec.transform(test_df['Text'].fillna(\"\")._to_pandas())).get()"
   ]
  },
  {
   "cell_type": "code",
   "execution_count": 26,
   "metadata": {},
   "outputs": [],
   "source": [
    "class MajorityVoting:\n",
    "    def __init__(self, estimators, probabilities, classes, label_encoder):\n",
    "        self._estimators = estimators\n",
    "        self._probabilities = probabilities\n",
    "        self._label_encoder = label_encoder\n",
    "        self._classes = classes\n",
    "\n",
    "    def one_hot(self, labels):\n",
    "        onehot = np.zeros((len(labels), len(self._classes)))\n",
    "        onehot[np.arange(len(labels)), labels] = 1.\n",
    "        return onehot\n",
    "\n",
    "    def predict(self, X):\n",
    "        outs = []\n",
    "        for prob, estimator in zip(self._probabilities, self._estimators):\n",
    "            labels = estimator.predict(X)\n",
    "            if hasattr(labels, \"get\"):\n",
    "                labels = labels.get()\n",
    "            outs.append(prob * self.one_hot(labels))\n",
    "        outs = np.sum(outs, axis=0)\n",
    "        return self._label_encoder.inverse_transform(np.argmax(outs, axis=1))"
   ]
  },
  {
   "cell_type": "code",
   "execution_count": 27,
   "metadata": {},
   "outputs": [
    {
     "name": "stderr",
     "output_type": "stream",
     "text": [
      "UserWarning: [11:54:43] WARNING: /home/conda/feedstock_root/build_artifacts/xgboost-split_1727241199541/work/src/common/error_msg.cc:58: Falling back to prediction using DMatrix due to mismatched devices. This might lead to higher memory usage and slower performance. XGBoost is running on: cuda:0, while the input data is on: cpu.\n",
      "Potential solutions:\n",
      "- Use a data structure that matches the device ordinal in the booster.\n",
      "- Set the device for booster before call to inplace_predict.\n",
      "\n",
      "This warning will only be shown once.\n",
      "\n"
     ]
    }
   ],
   "source": [
    "ensembled_model = MajorityVoting(best_models, probabilities, classes, le)\n",
    "test_predictions = ensembled_model.predict(train_X_resampled)"
   ]
  },
  {
   "cell_type": "code",
   "execution_count": 28,
   "metadata": {},
   "outputs": [
    {
     "name": "stdout",
     "output_type": "stream",
     "text": [
      "0.834643808380538\n"
     ]
    }
   ],
   "source": [
    "print(accuracy_score(le.inverse_transform(train_y_resampled), test_predictions))"
   ]
  },
  {
   "cell_type": "code",
   "execution_count": 29,
   "metadata": {},
   "outputs": [],
   "source": [
    "test_predictions = ensembled_model.predict(test_X_structured)"
   ]
  },
  {
   "cell_type": "code",
   "execution_count": 30,
   "metadata": {},
   "outputs": [
    {
     "name": "stdout",
     "output_type": "stream",
     "text": [
      "Submission file saved as 'submission.csv'.\n"
     ]
    }
   ],
   "source": [
    "submission = pd.DataFrame({\"Id\": submission['Id'], \"Score\": test_predictions})\n",
    "submission.to_csv(\"submission.csv\", index=False)\n",
    "print(\"Submission file saved as 'submission.csv'.\")"
   ]
  }
 ],
 "metadata": {
  "accelerator": "GPU",
  "colab": {
   "gpuType": "T4",
   "provenance": []
  },
  "kernelspec": {
   "display_name": "Python 3 (ipykernel)",
   "language": "python",
   "name": "python3"
  },
  "language_info": {
   "codemirror_mode": {
    "name": "ipython",
    "version": 3
   },
   "file_extension": ".py",
   "mimetype": "text/x-python",
   "name": "python",
   "nbconvert_exporter": "python",
   "pygments_lexer": "ipython3",
   "version": "3.11.10"
  }
 },
 "nbformat": 4,
 "nbformat_minor": 4
}
